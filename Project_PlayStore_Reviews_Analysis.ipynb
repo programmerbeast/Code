{
 "cells": [
  {
   "cell_type": "code",
   "execution_count": 1,
   "id": "4d1e448d",
   "metadata": {},
   "outputs": [
    {
     "name": "stdout",
     "output_type": "stream",
     "text": [
      "Requirement already satisfied: nltk in c:\\users\\hp001\\anaconda3\\lib\\site-packages (3.7)\n",
      "Requirement already satisfied: joblib in c:\\users\\hp001\\anaconda3\\lib\\site-packages (from nltk) (1.1.0)\n",
      "Requirement already satisfied: tqdm in c:\\users\\hp001\\anaconda3\\lib\\site-packages (from nltk) (4.64.0)\n",
      "Requirement already satisfied: regex>=2021.8.3 in c:\\users\\hp001\\anaconda3\\lib\\site-packages (from nltk) (2022.3.15)\n",
      "Requirement already satisfied: click in c:\\users\\hp001\\anaconda3\\lib\\site-packages (from nltk) (8.0.4)\n",
      "Requirement already satisfied: colorama in c:\\users\\hp001\\anaconda3\\lib\\site-packages (from click->nltk) (0.4.4)\n",
      "Requirement already satisfied: textblob in c:\\users\\hp001\\anaconda3\\lib\\site-packages (0.17.1)\n",
      "Requirement already satisfied: nltk>=3.1 in c:\\users\\hp001\\anaconda3\\lib\\site-packages (from textblob) (3.7)\n",
      "Requirement already satisfied: click in c:\\users\\hp001\\anaconda3\\lib\\site-packages (from nltk>=3.1->textblob) (8.0.4)\n",
      "Requirement already satisfied: joblib in c:\\users\\hp001\\anaconda3\\lib\\site-packages (from nltk>=3.1->textblob) (1.1.0)\n",
      "Requirement already satisfied: regex>=2021.8.3 in c:\\users\\hp001\\anaconda3\\lib\\site-packages (from nltk>=3.1->textblob) (2022.3.15)\n",
      "Requirement already satisfied: tqdm in c:\\users\\hp001\\anaconda3\\lib\\site-packages (from nltk>=3.1->textblob) (4.64.0)\n",
      "Requirement already satisfied: colorama in c:\\users\\hp001\\anaconda3\\lib\\site-packages (from click->nltk>=3.1->textblob) (0.4.4)\n"
     ]
    }
   ],
   "source": [
    "!pip install nltk\n",
    "!pip install textblob"
   ]
  },
  {
   "cell_type": "code",
   "execution_count": 2,
   "id": "7534679f",
   "metadata": {},
   "outputs": [
    {
     "name": "stderr",
     "output_type": "stream",
     "text": [
      "[nltk_data] Downloading package punkt to\n",
      "[nltk_data]     C:\\Users\\HP001\\AppData\\Roaming\\nltk_data...\n",
      "[nltk_data]   Package punkt is already up-to-date!\n",
      "[nltk_data] Downloading package stopwords to\n",
      "[nltk_data]     C:\\Users\\HP001\\AppData\\Roaming\\nltk_data...\n",
      "[nltk_data]   Package stopwords is already up-to-date!\n"
     ]
    },
    {
     "data": {
      "text/plain": [
       "True"
      ]
     },
     "execution_count": 2,
     "metadata": {},
     "output_type": "execute_result"
    }
   ],
   "source": [
    "#Import Libraries for sentiment analysis, tokenizing data\n",
    "import matplotlib.pyplot as plt\n",
    "import nltk\n",
    "from textblob import TextBlob\n",
    "import pandas\n",
    "nltk.download('punkt')\n",
    "nltk.download('stopwords')"
   ]
  },
  {
   "cell_type": "code",
   "execution_count": 3,
   "id": "74d177cd",
   "metadata": {},
   "outputs": [
    {
     "name": "stdout",
     "output_type": "stream",
     "text": [
      "g\n"
     ]
    }
   ],
   "source": [
    "#Load reviews from csv file\n",
    "\n",
    "#reviews=pd.read_csv()\n"
   ]
  },
  {
   "cell_type": "code",
   "execution_count": 16,
   "id": "fcda438c",
   "metadata": {},
   "outputs": [],
   "source": [
    "example_reviews= [\"Hello, this is an exajmple reoview, i wanted to say that this app is very bad and it broke down after i tried to login so it is horrible\",\n",
    "                 \"This app is horrible and i dont want it, i hate it because it is too slow\",\n",
    "                  \"I like this app, it is incredible and awesome\"\n",
    "                 ]"
   ]
  },
  {
   "cell_type": "code",
   "execution_count": null,
   "id": "de64670f",
   "metadata": {},
   "outputs": [],
   "source": []
  },
  {
   "cell_type": "code",
   "execution_count": 14,
   "id": "89d41e8c",
   "metadata": {},
   "outputs": [],
   "source": [
    "#Do the analysis\n",
    "#Do the analysis on one review->Write function to automate the process for every review\n",
    "\n",
    "#example review\n",
    "\n",
    "\n",
    "\n",
    "#correct spelling\n",
    "def analyze_reviews(reviews):\n",
    "    keyword_list={}\n",
    "    for review in reviews:\n",
    "        review = str(TextBlob(review).correct())\n",
    "        #tokenize review\n",
    "        tokens = nltk.word_tokenize(review)\n",
    "        #ignore stop_words\n",
    "        stop_words = set(nltk.corpus.stopwords.words('english'))\n",
    "        tokens = [token.lower() for token in tokens if token.lower() not in stop_words]\n",
    "        #get the sentiment of the review\n",
    "        sentiment = TextBlob(review).sentiment.polarity\n",
    "        print(\"Keywords: \", tokens)\n",
    "        print(\"Sentiment polarity: \", sentiment)\n",
    "        sentiment_in_words=\"neutral\"\n",
    "        if (sentiment<0):\n",
    "            sentiment_in_words=\"negative\"\n",
    "        elif(sentiment>=0):\n",
    "            sentiment_in_words=\"positive\"\n",
    "        print(sentiment_in_words)\n",
    "        #for every keyword, count how many times they appear in a negative respectively positive review\n",
    "        for token in tokens:\n",
    "            if token in keyword_list:\n",
    "                if sentiment<0:\n",
    "                    keyword_list[token][0]+=1\n",
    "                elif sentiment>=0:\n",
    "                    keyword_list[token][1]+=1\n",
    "            else:\n",
    "                if sentiment<0:\n",
    "                    keyword_list[token]=[1,0]\n",
    "                elif sentiment>=0:\n",
    "                    keyword_list[token]=[0,1]\n",
    "        \n",
    "    return keyword_list\n",
    "\n",
    "\n",
    "\n",
    "\n",
    "\n"
   ]
  },
  {
   "cell_type": "code",
   "execution_count": 17,
   "id": "4f812a5f",
   "metadata": {},
   "outputs": [
    {
     "name": "stdout",
     "output_type": "stream",
     "text": [
      "Keywords:  ['hello', ',', 'example', 'review', ',', 'wanted', 'say', 'pp', 'bad', 'broke', 'tried', 'login', 'horrible']\n",
      "Sentiment polarity:  -0.6885185185185184\n",
      "negative\n",
      "Keywords:  ['pp', 'horrible', 'dont', 'want', ',', 'hate', 'slow']\n",
      "Sentiment polarity:  -0.7000000000000001\n",
      "negative\n",
      "Keywords:  ['like', 'pp', ',', 'incredible', 'awesome']\n",
      "Sentiment polarity:  0.95\n",
      "positive\n"
     ]
    },
    {
     "data": {
      "text/plain": [
       "{'hello': [1, 0],\n",
       " ',': [3, 1],\n",
       " 'example': [1, 0],\n",
       " 'review': [1, 0],\n",
       " 'wanted': [1, 0],\n",
       " 'say': [1, 0],\n",
       " 'pp': [2, 1],\n",
       " 'bad': [1, 0],\n",
       " 'broke': [1, 0],\n",
       " 'tried': [1, 0],\n",
       " 'login': [1, 0],\n",
       " 'horrible': [2, 0],\n",
       " 'dont': [1, 0],\n",
       " 'want': [1, 0],\n",
       " 'hate': [1, 0],\n",
       " 'slow': [1, 0],\n",
       " 'like': [0, 1],\n",
       " 'incredible': [0, 1],\n",
       " 'awesome': [0, 1]}"
      ]
     },
     "execution_count": 17,
     "metadata": {},
     "output_type": "execute_result"
    }
   ],
   "source": [
    "analyze_reviews(example_reviews)"
   ]
  },
  {
   "cell_type": "code",
   "execution_count": null,
   "id": "eebfc56c",
   "metadata": {},
   "outputs": [],
   "source": []
  },
  {
   "cell_type": "code",
   "execution_count": null,
   "id": "9c0854a6",
   "metadata": {},
   "outputs": [],
   "source": []
  },
  {
   "cell_type": "code",
   "execution_count": null,
   "id": "1dde982c",
   "metadata": {},
   "outputs": [],
   "source": []
  }
 ],
 "metadata": {
  "kernelspec": {
   "display_name": "Python 3 (ipykernel)",
   "language": "python",
   "name": "python3"
  },
  "language_info": {
   "codemirror_mode": {
    "name": "ipython",
    "version": 3
   },
   "file_extension": ".py",
   "mimetype": "text/x-python",
   "name": "python",
   "nbconvert_exporter": "python",
   "pygments_lexer": "ipython3",
   "version": "3.9.12"
  }
 },
 "nbformat": 4,
 "nbformat_minor": 5
}

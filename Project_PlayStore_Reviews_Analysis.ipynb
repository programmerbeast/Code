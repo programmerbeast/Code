{
 "cells": [
  {
   "cell_type": "code",
   "execution_count": 1,
   "id": "4d1e448d",
   "metadata": {},
   "outputs": [
    {
     "name": "stdout",
     "output_type": "stream",
     "text": [
      "Requirement already satisfied: nltk in c:\\users\\hp001\\anaconda3\\lib\\site-packages (3.7)\n",
      "Requirement already satisfied: joblib in c:\\users\\hp001\\anaconda3\\lib\\site-packages (from nltk) (1.1.0)\n",
      "Requirement already satisfied: tqdm in c:\\users\\hp001\\anaconda3\\lib\\site-packages (from nltk) (4.64.0)\n",
      "Requirement already satisfied: regex>=2021.8.3 in c:\\users\\hp001\\anaconda3\\lib\\site-packages (from nltk) (2022.3.15)\n",
      "Requirement already satisfied: click in c:\\users\\hp001\\anaconda3\\lib\\site-packages (from nltk) (8.0.4)\n",
      "Requirement already satisfied: colorama in c:\\users\\hp001\\anaconda3\\lib\\site-packages (from click->nltk) (0.4.4)\n",
      "Requirement already satisfied: textblob in c:\\users\\hp001\\anaconda3\\lib\\site-packages (0.17.1)\n",
      "Requirement already satisfied: nltk>=3.1 in c:\\users\\hp001\\anaconda3\\lib\\site-packages (from textblob) (3.7)\n",
      "Requirement already satisfied: click in c:\\users\\hp001\\anaconda3\\lib\\site-packages (from nltk>=3.1->textblob) (8.0.4)\n",
      "Requirement already satisfied: joblib in c:\\users\\hp001\\anaconda3\\lib\\site-packages (from nltk>=3.1->textblob) (1.1.0)\n",
      "Requirement already satisfied: regex>=2021.8.3 in c:\\users\\hp001\\anaconda3\\lib\\site-packages (from nltk>=3.1->textblob) (2022.3.15)\n",
      "Requirement already satisfied: tqdm in c:\\users\\hp001\\anaconda3\\lib\\site-packages (from nltk>=3.1->textblob) (4.64.0)\n",
      "Requirement already satisfied: colorama in c:\\users\\hp001\\anaconda3\\lib\\site-packages (from click->nltk>=3.1->textblob) (0.4.4)\n"
     ]
    }
   ],
   "source": [
    "!pip install nltk\n",
    "!pip install textblob"
   ]
  },
  {
   "cell_type": "code",
   "execution_count": 4,
   "id": "7534679f",
   "metadata": {},
   "outputs": [
    {
     "name": "stderr",
     "output_type": "stream",
     "text": [
      "[nltk_data] Downloading package punkt to\n",
      "[nltk_data]     C:\\Users\\HP001\\AppData\\Roaming\\nltk_data...\n",
      "[nltk_data]   Package punkt is already up-to-date!\n",
      "[nltk_data] Downloading package stopwords to\n",
      "[nltk_data]     C:\\Users\\HP001\\AppData\\Roaming\\nltk_data...\n",
      "[nltk_data]   Package stopwords is already up-to-date!\n"
     ]
    },
    {
     "data": {
      "text/plain": [
       "True"
      ]
     },
     "execution_count": 4,
     "metadata": {},
     "output_type": "execute_result"
    }
   ],
   "source": [
    "#Import Libraries for sentiment analysis, tokenizing data\n",
    "import matplotlib.pyplot as plt\n",
    "import nltk\n",
    "from textblob import TextBlob\n",
    "import pandas\n",
    "nltk.download('punkt')\n",
    "nltk.download('stopwords')"
   ]
  },
  {
   "cell_type": "code",
   "execution_count": 3,
   "id": "74d177cd",
   "metadata": {},
   "outputs": [
    {
     "name": "stdout",
     "output_type": "stream",
     "text": [
      "g\n"
     ]
    }
   ],
   "source": [
    "#Load reviews from csv file\n",
    "\n",
    "#reviews=pd.read_csv()\n"
   ]
  },
  {
   "cell_type": "code",
   "execution_count": 5,
   "id": "fcda438c",
   "metadata": {},
   "outputs": [],
   "source": [
    "example_reviews= [\"Hello, this is an exajmple reoview, i wanted to say that this app is very bad and it broke down after i tried to login so it is horrible\",\n",
    "                 \"This app is horrible and i dont want it, i hate it because it is too slow\",\n",
    "                  \"I like this app, it is incredible and awesome\"\n",
    "                 ]"
   ]
  },
  {
   "cell_type": "code",
   "execution_count": 6,
   "id": "89d41e8c",
   "metadata": {},
   "outputs": [],
   "source": [
    "#Do the analysis\n",
    "#Do the analysis on one review->Write function to automate the process for every review\n",
    "\n",
    "#example review\n",
    "\n",
    "\n",
    "\n",
    "#correct spelling\n",
    "def analyze_reviews(reviews):\n",
    "    keyword_list={}\n",
    "    for review in reviews:\n",
    "        review = str(TextBlob(review).correct())\n",
    "        #tokenize review\n",
    "        tokens = nltk.word_tokenize(review)\n",
    "        #ignore stop_words\n",
    "        stop_words = set(nltk.corpus.stopwords.words('english'))\n",
    "        tokens = [token.lower() for token in tokens if token.lower() not in stop_words]\n",
    "        #get the sentiment of the review\n",
    "        sentiment = TextBlob(review).sentiment.polarity\n",
    "        print(\"Keywords: \", tokens)\n",
    "        print(\"Sentiment polarity: \", sentiment)\n",
    "        sentiment_in_words=\"neutral\"\n",
    "        if (sentiment<0):\n",
    "            sentiment_in_words=\"negative\"\n",
    "        elif(sentiment>=0):\n",
    "            sentiment_in_words=\"positive\"\n",
    "        print(sentiment_in_words)\n",
    "        #for every keyword, count how many times they appear in a negative respectively positive review\n",
    "        for token in tokens:\n",
    "            if token in keyword_list:\n",
    "                if sentiment<0:\n",
    "                    keyword_list[token][0]+=1\n",
    "                elif sentiment>=0:\n",
    "                    keyword_list[token][1]+=1\n",
    "            else:\n",
    "                if sentiment<0:\n",
    "                    keyword_list[token]=[1,0]\n",
    "                elif sentiment>=0:\n",
    "                    keyword_list[token]=[0,1]\n",
    "        \n",
    "    return keyword_list\n",
    "\n",
    "\n",
    "\n",
    "\n",
    "\n"
   ]
  },
  {
   "cell_type": "code",
   "execution_count": 120,
   "id": "326156ea",
   "metadata": {},
   "outputs": [],
   "source": [
    "time_frame=4\n",
    "time_start=\"01/20/2020\"\n",
    "time_end=\"01/23/2020\"\n",
    "keyword=\"reviews\""
   ]
  },
  {
   "cell_type": "code",
   "execution_count": 82,
   "id": "e0b81b3f",
   "metadata": {},
   "outputs": [
    {
     "name": "stdout",
     "output_type": "stream",
     "text": [
      "0\n",
      "Keywords:  ['reviews']\n",
      "Sentiment polarity:  0.0\n",
      "positive\n",
      "Keywords:  ['good', 'review']\n",
      "Sentiment polarity:  0.7\n",
      "positive\n",
      "1\n",
      "Keywords:  ['review', 'review', 'horrible']\n",
      "Sentiment polarity:  -1.0\n",
      "negative\n",
      "Keywords:  ['good', 'review', ',', 'review', 'best']\n",
      "Sentiment polarity:  0.85\n",
      "positive\n",
      "2\n",
      "Keywords:  ['example', 'review', ',', 'review', 'good']\n",
      "Sentiment polarity:  0.7\n",
      "positive\n",
      "Keywords:  ['good', 'review']\n",
      "Sentiment polarity:  -0.35\n",
      "negative\n",
      "3\n"
     ]
    }
   ],
   "source": [
    "reviews=[[\"Bad reviews\", \"Good review\"],[\"Bad review review is horrible\", \"good review, review is best\"],[\"example review, review good\", \"not good review\"],[]]\n",
    "a_reviews=[[]] * time_frame   \n",
    "for i in range(time_frame):\n",
    "    print(i)\n",
    "    if(len(reviews[i])!=0):\n",
    "        a_reviews[i] = analyze_reviews(reviews[i])\n",
    "    else:\n",
    "        a_reviews[i]=[]"
   ]
  },
  {
   "cell_type": "code",
   "execution_count": 83,
   "id": "89565837",
   "metadata": {},
   "outputs": [],
   "source": [
    "data_keyword=[[]]* time_frame"
   ]
  },
  {
   "cell_type": "code",
   "execution_count": 84,
   "id": "ba8aa0f3",
   "metadata": {},
   "outputs": [],
   "source": [
    "\n",
    "\n",
    "for i in range(time_frame):\n",
    "    if(keyword in a_reviews[i]):\n",
    "        data_keyword[i]=a_reviews[i][keyword]\n",
    "    else: data_keyword[i] = [0,0]\n",
    "        "
   ]
  },
  {
   "cell_type": "code",
   "execution_count": 138,
   "id": "1dde982c",
   "metadata": {},
   "outputs": [],
   "source": [
    "#look per date\n",
    "import pandas\n",
    "\n",
    "\n",
    "\n",
    "def make_graph(keyword, data_negative,data_positive,time_frame,time_start,time_end):\n",
    "    \n",
    "    x=[i for i in range(time_frame)]\n",
    "    plt.title(\"Positive and Negative reviews with the keyword {}\".format(keyword))\n",
    "    plt.plot(x,data_negative, label=\"negative review\", color=\"red\")\n",
    "    plt.plot(x,data_positive,label=\"positive review\",color=\"blue\")\n",
    "    xi=pandas.date_range(time_start,time_end,freq='d')\n",
    "    plt.xticks(x,xi.strftime('%m/%d/%Y, 'r''))\n",
    "    plt.legend()\n",
    "    plt.show()"
   ]
  },
  {
   "cell_type": "code",
   "execution_count": 139,
   "id": "82e298bf",
   "metadata": {},
   "outputs": [
    {
     "name": "stdout",
     "output_type": "stream",
     "text": [
      "DatetimeIndex(['2020-01-20', '2020-01-21', '2020-01-22', '2020-01-23'], dtype='datetime64[ns]', freq='D')\n"
     ]
    },
    {
     "data": {
      "image/png": "[encoded data removed]",
      "text/plain": [
       "<Figure size 432x288 with 1 Axes>"
      ]
     },
     "metadata": {
      "needs_background": "light"
     },
     "output_type": "display_data"
    }
   ],
   "source": [
    "data_negative=[i[0] for i in data_keyword]\n",
    "data_positive=[i[1] for i in data_keyword]\n",
    "make_graph(keyword,[i[0] for i in data_keyword],[i[1] for i in data_keyword],time_frame,time_start,time_end)\n",
    "\n",
    "\n",
    "\n",
    "\n"
   ]
  }
 ],
 "metadata": {
  "kernelspec": {
   "display_name": "Python 3 (ipykernel)",
   "language": "python",
   "name": "python3"
  },
  "language_info": {
   "codemirror_mode": {
    "name": "ipython",
    "version": 3
   },
   "file_extension": ".py",
   "mimetype": "text/x-python",
   "name": "python",
   "nbconvert_exporter": "python",
   "pygments_lexer": "ipython3",
   "version": "3.9.12"
  }
 },
 "nbformat": 4,
 "nbformat_minor": 5
}

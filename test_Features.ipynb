{
 "cells": [
  {
   "cell_type": "code",
   "execution_count": 1,
   "metadata": {},
   "outputs": [],
   "source": [
    "import matplotlib.pyplot as plt\n",
    "import nltk\n",
    "from textblob import TextBlob\n",
    "import pandas as pd\n",
    "import os\n",
    "from datetime import date\n",
    "from datetime import datetime\n",
    "import spacy\n",
    "from gensim import corpora, models"
   ]
  },
  {
   "cell_type": "code",
   "execution_count": 2,
   "metadata": {},
   "outputs": [],
   "source": [
    "nlp = spacy.load('en_core_web_sm')"
   ]
  },
  {
   "cell_type": "code",
   "execution_count": 3,
   "metadata": {},
   "outputs": [
    {
     "name": "stderr",
     "output_type": "stream",
     "text": [
      "C:\\Users\\HP001\\AppData\\Local\\Temp\\ipykernel_896\\4025571736.py:1: FutureWarning: The error_bad_lines argument has been deprecated and will be removed in a future version. Use on_bad_lines in the future.\n",
      "\n",
      "\n",
      "  data =pd.read_csv(\"Data/Twitter/08-05-2023_06-00-44.csv\", sep=\",\", engine=\"python\", error_bad_lines=False)\n"
     ]
    }
   ],
   "source": [
    "data =pd.read_csv(\"Data/Twitter/08-05-2023_06-00-44.csv\", sep=\",\", engine=\"python\", error_bad_lines=False)"
   ]
  },
  {
   "cell_type": "code",
   "execution_count": 4,
   "metadata": {},
   "outputs": [
    {
     "data": {
      "text/plain": [
       "0                                        Information hand\n",
       "1                               Totally enjoying app 🥰🥰❤️\n",
       "2                                  Thanks For Twitter App\n",
       "3       Very awesome though early muh detailed analysi...\n",
       "4                                                Nice app\n",
       "                              ...                        \n",
       "9995           So much better since acquisition late 2022\n",
       "9996                                         Twitter good\n",
       "9997    Terrible app Tweets dissappear youre reading m...\n",
       "9998    I hate lastest version Its divided following 🚮...\n",
       "9999                              Dont waste life twitter\n",
       "Name: content, Length: 10000, dtype: object"
      ]
     },
     "execution_count": 4,
     "metadata": {},
     "output_type": "execute_result"
    }
   ],
   "source": [
    "data[\"content\"]"
   ]
  },
  {
   "cell_type": "code",
   "execution_count": 24,
   "metadata": {},
   "outputs": [
    {
     "name": "stderr",
     "output_type": "stream",
     "text": [
      "[nltk_data] Downloading package stopwords to\n",
      "[nltk_data]     C:\\Users\\HP001\\AppData\\Roaming\\nltk_data...\n",
      "[nltk_data]   Package stopwords is already up-to-date!\n"
     ]
    },
    {
     "data": {
      "text/plain": [
       "True"
      ]
     },
     "execution_count": 24,
     "metadata": {},
     "output_type": "execute_result"
    }
   ],
   "source": [
    "nltk.download(\"stopwords\")"
   ]
  },
  {
   "cell_type": "code",
   "execution_count": 5,
   "metadata": {},
   "outputs": [],
   "source": [
    "def run_lda(preprocessed_reviews, num_topics):\n",
    "    # Create a dictionary from the preprocessed reviews\n",
    "    dictionary = corpora.Dictionary(preprocessed_reviews)\n",
    "\n",
    "    # Create a bag-of-words (BoW) representation of the reviews\n",
    "    bow_corpus = [dictionary.doc2bow(review) for review in preprocessed_reviews]\n",
    "\n",
    "    # Apply LDA\n",
    "    lda_model = models.LdaModel(bow_corpus, num_topics=num_topics, id2word=dictionary, passes=50)\n",
    "\n",
    "    # Print the topics\n",
    "    for idx, topic in lda_model.print_topics():\n",
    "        print(f\"Topic {idx}: {topic}\")\n",
    "\n",
    "    return lda_model"
   ]
  },
  {
   "cell_type": "code",
   "execution_count": 6,
   "metadata": {},
   "outputs": [],
   "source": [
    "def get_noun(review):\n",
    "    doc = nlp(review)\n",
    "    nouns = [token.text for token in doc if token.pos_ == \"NOUN\"]\n",
    "    return nouns"
   ]
  },
  {
   "cell_type": "code",
   "execution_count": 7,
   "metadata": {},
   "outputs": [
    {
     "name": "stderr",
     "output_type": "stream",
     "text": [
      "[nltk_data] Downloading package stopwords to\n",
      "[nltk_data]     C:\\Users\\HP001\\AppData\\Roaming\\nltk_data...\n",
      "[nltk_data]   Package stopwords is already up-to-date!\n",
      "[nltk_data] Downloading package wordnet to\n",
      "[nltk_data]     C:\\Users\\HP001\\AppData\\Roaming\\nltk_data...\n",
      "[nltk_data]   Package wordnet is already up-to-date!\n"
     ]
    }
   ],
   "source": [
    "nltk.download('stopwords')\n",
    "from nltk.corpus import stopwords\n",
    "nltk.download('wordnet')\n",
    "from nltk.stem import WordNetLemmatizer\n"
   ]
  },
  {
   "cell_type": "code",
   "execution_count": 41,
   "metadata": {},
   "outputs": [
    {
     "name": "stdout",
     "output_type": "stream",
     "text": [
      "Collecting clean-text\n",
      "  Using cached clean_text-0.6.0-py3-none-any.whl (11 kB)\n",
      "Collecting emoji<2.0.0,>=1.0.0\n",
      "  Using cached emoji-1.7.0.tar.gz (175 kB)\n",
      "  Preparing metadata (setup.py): started\n",
      "  Preparing metadata (setup.py): finished with status 'done'\n",
      "Collecting ftfy<7.0,>=6.0\n",
      "  Using cached ftfy-6.1.1-py3-none-any.whl (53 kB)\n",
      "Requirement already satisfied: wcwidth>=0.2.5 in c:\\users\\hp001\\appdata\\local\\programs\\python\\python310\\lib\\site-packages (from ftfy<7.0,>=6.0->clean-text) (0.2.6)\n",
      "Building wheels for collected packages: emoji\n",
      "  Building wheel for emoji (setup.py): started\n",
      "  Building wheel for emoji (setup.py): finished with status 'done'\n",
      "  Created wheel for emoji: filename=emoji-1.7.0-py3-none-any.whl size=171075 sha256=b8d955c608f156a8680fa22d48ba1b8cfd3bae9f9b03677a700225cb382a2d75\n",
      "  Stored in directory: c:\\users\\hp001\\appdata\\local\\pip\\cache\\wheels\\31\\8a\\8c\\315c9e5d7773f74b33d5ed33f075b49c6eaeb7cedbb86e2cf8\n",
      "Successfully built emoji\n",
      "Installing collected packages: emoji, ftfy, clean-text\n",
      "Successfully installed clean-text-0.6.0 emoji-1.7.0 ftfy-6.1.1\n"
     ]
    },
    {
     "name": "stderr",
     "output_type": "stream",
     "text": [
      "WARNING: You are using pip version 22.0.4; however, version 23.1.2 is available.\n",
      "You should consider upgrading via the 'C:\\Users\\HP001\\AppData\\Local\\Programs\\Python\\Python310\\python.exe -m pip install --upgrade pip' command.\n"
     ]
    }
   ],
   "source": [
    "!pip install clean-text"
   ]
  },
  {
   "cell_type": "code",
   "execution_count": 9,
   "metadata": {},
   "outputs": [
    {
     "name": "stderr",
     "output_type": "stream",
     "text": [
      "Since the GPL-licensed package `unidecode` is not installed, using Python's `unicodedata` package which yields worse results.\n"
     ]
    }
   ],
   "source": [
    "from cleantext import clean\n"
   ]
  },
  {
   "cell_type": "code",
   "execution_count": 8,
   "metadata": {},
   "outputs": [],
   "source": [
    "def preprocess_reviews_list(reviews):\n",
    "    # Convert to lowercase\n",
    "    for (i,k) in enumerate(reviews):\n",
    "        for (j,l) in enumerate(k):\n",
    "            reviews[i][j]=clean(l.lower(),no_emoji=True)\n",
    "    \n",
    "    stop_words = set(stopwords.words('english'))       \n",
    "    filtered_reviews=[[word for word in token if word not in stop_words] for token in reviews]   \n",
    "   # reviews = [review.lower() for review in reviews]\n",
    "\n",
    "    # Tokenization\n",
    "    #tokenized_reviews = [word_tokenize(review) for review in reviews]\n",
    "\n",
    "    # Remove stopwords\n",
    "   # stop_words = set(stopwords.words('english'))\n",
    "   # filtered_reviews = [[word for word in tokens if word not in stop_words] for tokens in tokenized_reviews]\n",
    "\n",
    "    # Lemmatization\n",
    "    lemmatizer = WordNetLemmatizer()\n",
    "    preprocessed_reviews = [[lemmatizer.lemmatize(word) for word in tokens] for tokens in filtered_reviews]\n",
    "\n",
    "    return preprocessed_reviews"
   ]
  },
  {
   "cell_type": "code",
   "execution_count": 10,
   "metadata": {},
   "outputs": [],
   "source": [
    "data_nouns= [get_noun(str(i)) for i in data[\"content\"]]"
   ]
  },
  {
   "cell_type": "code",
   "execution_count": 11,
   "metadata": {},
   "outputs": [],
   "source": [
    "filtered_data=preprocess_reviews_list(data_nouns)"
   ]
  },
  {
   "cell_type": "code",
   "execution_count": 12,
   "metadata": {},
   "outputs": [
    {
     "name": "stdout",
     "output_type": "stream",
     "text": [
      "Topic 0: 0.228*\"time\" + 0.112*\"platform\" + 0.093*\"user\" + 0.085*\"use\" + 0.074*\"post\" + 0.039*\"message\" + 0.036*\"update\" + 0.033*\"follower\" + 0.018*\"date\" + 0.015*\"party\"\n",
      "Topic 1: 0.151*\"thing\" + 0.135*\"news\" + 0.105*\"star\" + 0.045*\"opinion\" + 0.043*\"email\" + 0.023*\"fact\" + 0.022*\"alot\" + 0.022*\"part\" + 0.021*\"person\" + 0.018*\"network\"\n",
      "Topic 2: 0.176*\"love\" + 0.112*\"fun\" + 0.076*\"life\" + 0.037*\"hour\" + 0.037*\"community\" + 0.030*\"glitch\" + 0.021*\"character\" + 0.020*\"hand\" + 0.019*\"expression\" + 0.018*\"bias\"\n",
      "Topic 3: 0.810*\"app\" + 0.039*\"work\" + 0.008*\"crash\" + 0.007*\"event\" + 0.007*\"loading\" + 0.005*\"game\" + 0.005*\"store\" + 0.004*\"force\" + 0.003*\"scammer\" + 0.003*\"notice\"\n",
      "Topic 4: 0.104*\"issue\" + 0.098*\"version\" + 0.087*\"year\" + 0.052*\"picture\" + 0.050*\"support\" + 0.046*\"comment\" + 0.046*\"week\" + 0.030*\"today\" + 0.029*\"help\" + 0.025*\"tab\"\n",
      "Topic 5: 0.112*\"month\" + 0.076*\"need\" + 0.074*\"improvement\" + 0.073*\"porn\" + 0.057*\"suck\" + 0.052*\"site\" + 0.034*\"stop\" + 0.021*\"pause\" + 0.021*\"everytime\" + 0.019*\"fine\"\n",
      "Topic 6: 0.213*\"medium\" + 0.111*\"change\" + 0.085*\"thanks\" + 0.057*\"platform\" + 0.047*\"ad\" + 0.034*\"company\" + 0.030*\"photo\" + 0.029*\"quality\" + 0.024*\"good\" + 0.021*\"bookmark\"\n",
      "Topic 7: 0.206*\"speech\" + 0.078*\"freedom\" + 0.045*\"image\" + 0.042*\"stuff\" + 0.041*\"source\" + 0.040*\"rule\" + 0.038*\"truth\" + 0.028*\"mind\" + 0.023*\"check\" + 0.018*\"entertainment\"\n",
      "Topic 8: 0.247*\"people\" + 0.130*\"problem\" + 0.114*\"content\" + 0.083*\"information\" + 0.023*\"follow\" + 0.021*\"government\" + 0.019*\"limit\" + 0.018*\"list\" + 0.018*\"interface\" + 0.017*\"kind\"\n",
      "Topic 9: 0.747*\"\" + 0.016*\"tiktok\" + 0.013*\"age\" + 0.013*\"hell\" + 0.012*\"fire\" + 0.009*\"politics\" + 0.006*\"spam\" + 0.005*\"censor\" + 0.005*\"1st\" + 0.005*\"hill\"\n",
      "Topic 10: 0.470*\"twitter\" + 0.073*\"feature\" + 0.043*\"team\" + 0.037*\"u\" + 0.025*\"error\" + 0.022*\"search\" + 0.021*\"topic\" + 0.018*\"link\" + 0.009*\"refreshes\" + 0.009*\"download\"\n",
      "Topic 11: 0.118*\"lot\" + 0.090*\"feed\" + 0.084*\"apps\" + 0.082*\"page\" + 0.055*\"one\" + 0.052*\"fix\" + 0.050*\"friend\" + 0.038*\"reply\" + 0.035*\"profile\" + 0.022*\"interest\"\n",
      "Topic 12: 0.352*\"tweet\" + 0.134*\"world\" + 0.032*\"data\" + 0.025*\"response\" + 0.021*\"rating\" + 0.019*\"share\" + 0.019*\"country\" + 0.016*\"knowledge\" + 0.014*\"side\" + 0.012*\"family\"\n",
      "Topic 13: 0.302*\"account\" + 0.070*\"day\" + 0.067*\"reason\" + 0.066*\"musk\" + 0.058*\"bug\" + 0.034*\"bot\" + 0.028*\"service\" + 0.020*\"appeal\" + 0.018*\"policy\" + 0.014*\"verification\"\n",
      "Topic 14: 0.106*\"option\" + 0.106*\"notification\" + 0.070*\"guy\" + 0.068*\"job\" + 0.046*\"censorship\" + 0.034*\"scroll\" + 0.025*\"pic\" + 0.025*\"post\" + 0.024*\"voice\" + 0.024*\"thought\"\n",
      "Topic 15: 0.118*\"garbage\" + 0.107*\"tap\" + 0.056*\"log\" + 0.046*\"management\" + 0.033*\"website\" + 0.030*\"audio\" + 0.024*\"shadow\" + 0.023*\"adult\" + 0.022*\"ceo\" + 0.018*\"dog\"\n",
      "Topic 16: 0.454*\"video\" + 0.180*\"player\" + 0.147*\"update\" + 0.028*\"trash\" + 0.018*\"internet\" + 0.013*\"playback\" + 0.011*\"control\" + 0.010*\"mess\" + 0.008*\"option\" + 0.007*\"connection\"\n",
      "Topic 17: 0.092*\"phone\" + 0.080*\"button\" + 0.079*\"screen\" + 0.065*\"number\" + 0.065*\"play\" + 0.039*\"view\" + 0.035*\"bar\" + 0.034*\"control\" + 0.031*\"thread\" + 0.027*\"playing\"\n",
      "Topic 18: 0.206*\"experience\" + 0.142*\"way\" + 0.078*\"place\" + 0.070*\"elon\" + 0.056*\"people\" + 0.040*\"others\" + 0.034*\"system\" + 0.033*\"space\" + 0.031*\"owner\" + 0.024*\"business\"\n",
      "Topic 19: 0.180*\"application\" + 0.130*\"timeline\" + 0.081*\"idea\" + 0.080*\"money\" + 0.049*\"tick\" + 0.048*\"auto\" + 0.039*\"word\" + 0.014*\"performance\" + 0.014*\"celebrity\" + 0.013*\"refresh\"\n"
     ]
    }
   ],
   "source": [
    "num_topics=20\n",
    "lda_model = run_lda(filtered_data, num_topics)"
   ]
  },
  {
   "cell_type": "code",
   "execution_count": 13,
   "metadata": {},
   "outputs": [],
   "source": [
    "# Get the list of topics\n",
    "topics = lda_model.print_topics(15,4)\n",
    "\n",
    "# Get the topic-word distribution for a specific topic\n",
    "topic_words = lda_model.get_topic_terms(0, 5)\n",
    "\n",
    "# Get the document-topic distribution for a specific document\n",
    "doc = \"This is a sample document.\"\n",
    "doc_bow = lda_model.id2word.doc2bow(doc.split())\n",
    "doc_topic_distribution = lda_model.get_document_topics(doc_bow)"
   ]
  },
  {
   "cell_type": "code",
   "execution_count": 80,
   "metadata": {},
   "outputs": [
    {
     "data": {
      "text/plain": [
       "[(0, '0.148*\"medium\" + 0.117*\"thing\" + 0.098*\"change\" + 0.037*\"life\"'),\n",
       " (7, '0.206*\"problem\" + 0.123*\"year\" + 0.070*\"porn\" + 0.062*\"rule\"'),\n",
       " (8, '0.125*\"feed\" + 0.116*\"apps\" + 0.078*\"ad\" + 0.073*\"internet\"'),\n",
       " (12, '0.152*\"day\" + 0.134*\"content\" + 0.103*\"version\" + 0.045*\"image\"'),\n",
       " (19, '0.364*\"account\" + 0.178*\"update\" + 0.037*\"job\" + 0.036*\"email\"'),\n",
       " (16, '0.517*\"video\" + 0.205*\"player\" + 0.080*\"update\" + 0.016*\"suck\"'),\n",
       " (13,\n",
       "  '0.256*\"tweet\" + 0.087*\"option\" + 0.071*\"information\" + 0.067*\"notification\"'),\n",
       " (18, '0.348*\"twitter\" + 0.133*\"people\" + 0.064*\"news\" + 0.057*\"application\"'),\n",
       " (1, '0.133*\"post\" + 0.105*\"bug\" + 0.058*\"one\" + 0.054*\"fix\"'),\n",
       " (14, '0.762*\"\" + 0.012*\"fire\" + 0.010*\"watch\" + 0.009*\"hope\"'),\n",
       " (15, '0.179*\"speech\" + 0.114*\"user\" + 0.095*\"musk\" + 0.068*\"freedom\"'),\n",
       " (3, '0.126*\"star\" + 0.094*\"phone\" + 0.082*\"button\" + 0.073*\"timeline\"'),\n",
       " (10, '0.220*\"platform\" + 0.062*\"garbage\" + 0.052*\"team\" + 0.052*\"medium\"'),\n",
       " (6,\n",
       "  '0.222*\"experience\" + 0.126*\"love\" + 0.059*\"message\" + 0.049*\"improvement\"'),\n",
       " (11, '0.115*\"work\" + 0.084*\"reason\" + 0.068*\"week\" + 0.054*\"reply\"')]"
      ]
     },
     "execution_count": 80,
     "metadata": {},
     "output_type": "execute_result"
    }
   ],
   "source": [
    "[i for i in topics]"
   ]
  },
  {
   "cell_type": "code",
   "execution_count": 14,
   "metadata": {},
   "outputs": [],
   "source": [
    "topic_id = 0  # Replace with the desired topic ID\n",
    "topic_words = lda_model.get_topic_terms(topic_id, topn=10)\n"
   ]
  },
  {
   "cell_type": "code",
   "execution_count": 15,
   "metadata": {},
   "outputs": [],
   "source": [
    "threshold = 0.1\n",
    "filtered_words = [word for word, prob in topic_words if prob > threshold]\n"
   ]
  },
  {
   "cell_type": "code",
   "execution_count": 16,
   "metadata": {},
   "outputs": [
    {
     "name": "stdout",
     "output_type": "stream",
     "text": [
      "Topic Coherence: 10\n",
      "Topic: 0.470*\"twitter\" + 0.073*\"feature\" + 0.043*\"team\" + 0.037*\"u\"\n",
      "\n",
      "Topic Coherence: 7\n",
      "Topic: 0.206*\"speech\" + 0.078*\"freedom\" + 0.045*\"image\" + 0.042*\"stuff\"\n",
      "\n",
      "Topic Coherence: 5\n",
      "Topic: 0.112*\"month\" + 0.076*\"need\" + 0.074*\"improvement\" + 0.073*\"porn\"\n",
      "\n",
      "Topic Coherence: 0\n",
      "Topic: 0.228*\"time\" + 0.112*\"platform\" + 0.093*\"user\" + 0.085*\"use\"\n",
      "\n",
      "Topic Coherence: 18\n",
      "Topic: 0.206*\"experience\" + 0.142*\"way\" + 0.078*\"place\" + 0.070*\"elon\"\n",
      "\n",
      "Topic Coherence: 14\n",
      "Topic: 0.106*\"option\" + 0.106*\"notification\" + 0.070*\"guy\" + 0.068*\"job\"\n",
      "\n",
      "Topic Coherence: 6\n",
      "Topic: 0.213*\"medium\" + 0.111*\"change\" + 0.085*\"thanks\" + 0.057*\"platform\"\n",
      "\n",
      "Topic Coherence: 19\n",
      "Topic: 0.180*\"application\" + 0.130*\"timeline\" + 0.081*\"idea\" + 0.080*\"money\"\n",
      "\n",
      "Topic Coherence: 11\n",
      "Topic: 0.118*\"lot\" + 0.090*\"feed\" + 0.084*\"apps\" + 0.082*\"page\"\n",
      "\n",
      "Topic Coherence: 3\n",
      "Topic: 0.810*\"app\" + 0.039*\"work\" + 0.008*\"crash\" + 0.007*\"event\"\n",
      "\n",
      "Topic Coherence: 15\n",
      "Topic: 0.118*\"garbage\" + 0.107*\"tap\" + 0.056*\"log\" + 0.046*\"management\"\n",
      "\n",
      "Topic Coherence: 1\n",
      "Topic: 0.151*\"thing\" + 0.135*\"news\" + 0.105*\"star\" + 0.045*\"opinion\"\n",
      "\n",
      "Topic Coherence: 12\n",
      "Topic: 0.352*\"tweet\" + 0.134*\"world\" + 0.032*\"data\" + 0.025*\"response\"\n",
      "\n",
      "Topic Coherence: 13\n",
      "Topic: 0.302*\"account\" + 0.070*\"day\" + 0.067*\"reason\" + 0.066*\"musk\"\n",
      "\n",
      "Topic Coherence: 8\n",
      "Topic: 0.247*\"people\" + 0.130*\"problem\" + 0.114*\"content\" + 0.083*\"information\"\n",
      "\n"
     ]
    }
   ],
   "source": [
    "for topic_coherence, topic in topics:\n",
    "    print(f\"Topic Coherence: {topic_coherence}\")\n",
    "    print(f\"Topic: {topic}\")\n",
    "    print()"
   ]
  },
  {
   "cell_type": "code",
   "execution_count": 17,
   "metadata": {},
   "outputs": [
    {
     "ename": "NameError",
     "evalue": "name 'document' is not defined",
     "output_type": "error",
     "traceback": [
      "\u001b[1;31m---------------------------------------------------------------------------\u001b[0m",
      "\u001b[1;31mNameError\u001b[0m                                 Traceback (most recent call last)",
      "Cell \u001b[1;32mIn[17], line 10\u001b[0m\n\u001b[0;32m      7\u001b[0m dictionary \u001b[39m=\u001b[39m Dictionary(filtered_data)\n\u001b[0;32m      9\u001b[0m \u001b[39m# Convert the document to its bag-of-words representation\u001b[39;00m\n\u001b[1;32m---> 10\u001b[0m doc_bow \u001b[39m=\u001b[39m dictionary\u001b[39m.\u001b[39mdoc2bow(document)\n\u001b[0;32m     12\u001b[0m \u001b[39m# Get the topic distribution for the document\u001b[39;00m\n\u001b[0;32m     13\u001b[0m topic_distribution \u001b[39m=\u001b[39m lda_model\u001b[39m.\u001b[39mget_document_topics(doc_bow)\n",
      "\u001b[1;31mNameError\u001b[0m: name 'document' is not defined"
     ]
    }
   ],
   "source": [
    "from gensim.corpora import Dictionary\n",
    "\n",
    "# Assuming you have trained an LDA model called 'lda_model'\n",
    "# and you have a document represented as a bag-of-words 'doc_bow'\n",
    "\n",
    "# Create a dictionary mapping words to their numerical ids\n",
    "dictionary = Dictionary(filtered_data)\n",
    "\n",
    "# Convert the document to its bag-of-words representation\n",
    "doc_bow = dictionary.doc2bow(document)\n",
    "\n",
    "# Get the topic distribution for the document\n",
    "topic_distribution = lda_model.get_document_topics(doc_bow)\n",
    "\n",
    "# Iterate over the topics and their probabilities\n",
    "for topic, prob in topic_distribution:\n",
    "    print(f\"Topic: {topic}, Probability: {prob}\")"
   ]
  },
  {
   "cell_type": "code",
   "execution_count": null,
   "metadata": {},
   "outputs": [
    {
     "name": "stdout",
     "output_type": "stream",
     "text": [
      "Topic: 0, Probability: 0.016666842624545097\n",
      "Topic: 1, Probability: 0.3499999940395355\n",
      "Topic: 2, Probability: 0.016666842624545097\n",
      "Topic: 3, Probability: 0.016666842624545097\n",
      "Topic: 4, Probability: 0.016666842624545097\n",
      "Topic: 5, Probability: 0.016666842624545097\n",
      "Topic: 6, Probability: 0.016666842624545097\n",
      "Topic: 7, Probability: 0.016666842624545097\n",
      "Topic: 8, Probability: 0.016666842624545097\n",
      "Topic: 9, Probability: 0.016666842624545097\n",
      "Topic: 10, Probability: 0.016666842624545097\n",
      "Topic: 11, Probability: 0.016666842624545097\n",
      "Topic: 12, Probability: 0.016666842624545097\n",
      "Topic: 13, Probability: 0.3499968349933624\n",
      "Topic: 14, Probability: 0.016666842624545097\n",
      "Topic: 15, Probability: 0.016666842624545097\n",
      "Topic: 16, Probability: 0.016666842624545097\n",
      "Topic: 17, Probability: 0.016666842624545097\n",
      "Topic: 18, Probability: 0.016666842624545097\n",
      "Topic: 19, Probability: 0.016666842624545097\n"
     ]
    }
   ],
   "source": [
    "document=\"copy link bookmark buttons keep switching places reasons lmao\".split(\" \")\n",
    "doc_bow = dictionary.doc2bow(document)\n",
    "\n",
    "# Get the topic distribution for the document\n",
    "topic_distribution = lda_model.get_document_topics(doc_bow)\n",
    "\n",
    "# Iterate over the topics and their probabilities\n",
    "for topic, prob in topic_distribution:\n",
    "    print(f\"Topic: {topic}, Probability: {prob}\")"
   ]
  },
  {
   "cell_type": "code",
   "execution_count": null,
   "metadata": {},
   "outputs": [],
   "source": []
  }
 ],
 "metadata": {
  "kernelspec": {
   "display_name": "Python 3",
   "language": "python",
   "name": "python3"
  },
  "language_info": {
   "codemirror_mode": {
    "name": "ipython",
    "version": 3
   },
   "file_extension": ".py",
   "mimetype": "text/x-python",
   "name": "python",
   "nbconvert_exporter": "python",
   "pygments_lexer": "ipython3",
   "version": "3.10.5"
  },
  "orig_nbformat": 4,
  "vscode": {
   "interpreter": {
    "hash": "1f98acb1971848e61526fd913f9722ee15e73d88477824fe14df80a35eeb01c3"
   }
  }
 },
 "nbformat": 4,
 "nbformat_minor": 2
}
